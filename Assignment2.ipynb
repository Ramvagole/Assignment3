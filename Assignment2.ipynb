{
 "cells": [
  {
   "cell_type": "code",
   "execution_count": null,
   "id": "6aa11909-bd8d-4d81-abc1-c9355bfca1a7",
   "metadata": {},
   "outputs": [],
   "source": [
    "#Q1):-\n",
    "      Guido van Rossum developed python programming language\n"
   ]
  },
  {
   "cell_type": "code",
   "execution_count": null,
   "id": "b478d547-969b-42a4-a157-746aabc456b8",
   "metadata": {},
   "outputs": [],
   "source": [
    "#Q2):-\n",
    "       It supports multiple programming paradigms beyond object-oriented programming, such as procedural and functional programming."
   ]
  },
  {
   "cell_type": "code",
   "execution_count": null,
   "id": "a564628f-0bcb-454d-bdd1-b11011fd0bb8",
   "metadata": {},
   "outputs": [],
   "source": [
    "#Q3):-\n",
    "       Yes, Python is a case−sensitive programming language."
   ]
  },
  {
   "cell_type": "code",
   "execution_count": null,
   "id": "573a49c7-653f-4956-9f61-dc95ce087ca3",
   "metadata": {},
   "outputs": [],
   "source": [
    "#Q4):-\n",
    "      .py\n",
    "      .pyi\n",
    "      .pyc\n",
    "      .pyd\n",
    "      .pyo\n",
    "      .pyw\n",
    "      .pyz"
   ]
  },
  {
   "cell_type": "code",
   "execution_count": null,
   "id": "8544fbaf-7202-49db-8e15-e192f06db2ee",
   "metadata": {},
   "outputs": [],
   "source": [
    "#Q5):-\n",
    "       Python is an interpreted language"
   ]
  },
  {
   "cell_type": "code",
   "execution_count": null,
   "id": "5cf40c29-4d8e-4dfd-b148-10f9bf86f712",
   "metadata": {},
   "outputs": [],
   "source": [
    "#Q6):-\n",
    "       A module, a function body, and a class definition. \n",
    "       Each command typed interactively is a block. \n",
    "       A script file is a code block."
   ]
  },
  {
   "cell_type": "code",
   "execution_count": null,
   "id": "f0ea1fd2-d44f-4832-9845-67346ba48cae",
   "metadata": {},
   "outputs": [],
   "source": [
    "#Q7):- \n",
    "       #"
   ]
  },
  {
   "cell_type": "code",
   "execution_count": null,
   "id": "8acdbca9-4e08-4bee-8acd-654fd3591ef2",
   "metadata": {},
   "outputs": [],
   "source": [
    "#Q8):-\n",
    "       The function sys. version can help us to find the version of python that we are currently working on."
   ]
  },
  {
   "cell_type": "code",
   "execution_count": null,
   "id": "00c8ff86-a98f-444f-ad44-3a4f02f0327a",
   "metadata": {},
   "outputs": [],
   "source": [
    "#Q9):-\n",
    "      using a construct called lambda."
   ]
  },
  {
   "cell_type": "code",
   "execution_count": null,
   "id": "5ea58c2e-e928-4d71-93bf-42217ecdca2e",
   "metadata": {},
   "outputs": [],
   "source": [
    "#Q10):-\n",
    "       Preferred Installer Program."
   ]
  },
  {
   "cell_type": "code",
   "execution_count": null,
   "id": "d91a5e44-de57-4844-b5d7-d7bfd37ca63a",
   "metadata": {},
   "outputs": [],
   "source": [
    "#Q11):-\n",
    "       int()\t        Returns an integer number\n",
    "       isinstance() \tReturns True if a specified object is an instance of a specified object\n",
    "       issubclass()  \tReturns True if a specified class is a subclass of a specified object\n",
    "       iter()           Returns an iterator object"
   ]
  },
  {
   "cell_type": "code",
   "execution_count": null,
   "id": "fd285a71-9bdf-4ecb-a280-08dacf260885",
   "metadata": {},
   "outputs": [],
   "source": [
    "#Q12):-\n",
    "     79 identifiers."
   ]
  },
  {
   "cell_type": "code",
   "execution_count": null,
   "id": "851726d0-4d7a-4fb2-b46f-7ff6b9f7562e",
   "metadata": {},
   "outputs": [],
   "source": [
    "#Q13):-\n",
    "      Python easy to learn, but also, it's flexible.\n",
    "      Used in Many Industries.\n",
    "        "
   ]
  },
  {
   "cell_type": "code",
   "execution_count": null,
   "id": "e1f2de8a-4460-452c-9149-9e12952fc29e",
   "metadata": {},
   "outputs": [],
   "source": [
    "#Q14):-\n",
    "      The management of this private heap is ensured internally by the Python memory manager."
   ]
  },
  {
   "cell_type": "code",
   "execution_count": null,
   "id": "84aa1701-8a6d-4cff-a2d6-def23db945b3",
   "metadata": {},
   "outputs": [],
   "source": [
    "#Q15):-\n",
    "      Right-clicking This PC and going to Properties.\n",
    "      Clicking on the Advanced system settings in the menu on the left.\n",
    "      Clicking on the Environment Variables button o​n the bottom right.\n",
    "      In the System variables section, selecting the Path variable and clicking on Edit."
   ]
  },
  {
   "cell_type": "code",
   "execution_count": null,
   "id": "09aa98d3-40e0-4a9f-b131-42604518b1ab",
   "metadata": {},
   "outputs": [],
   "source": [
    "#Q16):-\n",
    "      Indentation is important to Python, because it's how you determine scope. \n",
    "      Scope is how Python knows what code belongs to what part of the program."
   ]
  }
 ],
 "metadata": {
  "kernelspec": {
   "display_name": "Python 3 (ipykernel)",
   "language": "python",
   "name": "python3"
  },
  "language_info": {
   "codemirror_mode": {
    "name": "ipython",
    "version": 3
   },
   "file_extension": ".py",
   "mimetype": "text/x-python",
   "name": "python",
   "nbconvert_exporter": "python",
   "pygments_lexer": "ipython3",
   "version": "3.10.8"
  }
 },
 "nbformat": 4,
 "nbformat_minor": 5
}
